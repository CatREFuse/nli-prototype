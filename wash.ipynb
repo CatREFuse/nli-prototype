{
 "cells": [
  {
   "cell_type": "code",
   "execution_count": 3,
   "metadata": {},
   "outputs": [],
   "source": [
    "import json\n",
    "\n",
    "# convert .txt into json list by line\n",
    "def handle_text(file_name: str) -> None:\n",
    "    with open(f'{file_name}.txt', 'r') as f:\n",
    "        data = f.readlines()\n",
    "        buffer_list = [x.strip() for x in data]\n",
    "        json_buffer = json.dumps(buffer_list,  ensure_ascii=False)\n",
    "        with open(f\"{file_name}.json\", \"w+\") as w:\n",
    "            w.write(json_buffer)\n"
   ]
  },
  {
   "cell_type": "code",
   "execution_count": 4,
   "metadata": {},
   "outputs": [],
   "source": [
    "handle_text(\"figma_test_list\")\n",
    "handle_text(\"os_test_list\")"
   ]
  },
  {
   "cell_type": "code",
   "execution_count": 6,
   "metadata": {},
   "outputs": [
    {
     "name": "stdout",
     "output_type": "stream",
     "text": [
      "在 Page 1 中，根据参考制作一份简洁的登录界面，要求有标题、账户输入框、密码输入框和登录按钮\n",
      "在 Page 2 的矩形中填充海洋的图片\n",
      "在 Page 3 中制作一个 4x4 的圆形矩阵，直径 16px，间距 8px，颜色随机\n",
      "将 Page 4 里所有的文字换成 Roboto 字体\n",
      "在 Page 5 对指定的一份原型中的“姓名”图层替换成样例的中文姓名，如“张三”“李四”\n",
      "将 Page 6 中所有的相册图片的图层名改为图层的尺寸，如“640x480”\n"
     ]
    }
   ],
   "source": [
    "with open('./static/figma_test_list.json', 'r') as f:\n",
    "    figma_test_list = json.load(f)\n",
    "    for item in figma_test_list:\n",
    "        print(item)"
   ]
  },
  {
   "cell_type": "code",
   "execution_count": 7,
   "metadata": {},
   "outputs": [
    {
     "name": "stdout",
     "output_type": "stream",
     "text": [
      "桌面上显示了一个文件夹，将其中 3 月 8 日创建的图片复制到一个新的文件夹，命名为“旅行照片”\n",
      "将文件夹中名字为“分享.jpg”的照片使用电子邮件 APP 发送给 fakename@fakemail.com，标题为共享照片\n",
      "找一张主题为山峰的壁纸，保存后更换为桌面壁纸\n",
      "打开 Safari 浏览器和提醒事项，井分屏显示，然后开启“工作”专注模式\n",
      "截全屏（Option⌥ + A）并通过 AirDrop 共享到最近的手机\n",
      "查看日历中下一个日程的地理位置，并复制粘贴到备忘录\n"
     ]
    }
   ],
   "source": [
    "with open('./static/os_test_list.json', 'r') as f:\n",
    "    figma_test_list = json.load(f)\n",
    "    for item in figma_test_list:\n",
    "        print(item)"
   ]
  },
  {
   "cell_type": "code",
   "execution_count": null,
   "metadata": {},
   "outputs": [],
   "source": []
  }
 ],
 "metadata": {
  "kernelspec": {
   "display_name": "Python 3",
   "language": "python",
   "name": "python3"
  },
  "language_info": {
   "codemirror_mode": {
    "name": "ipython",
    "version": 3
   },
   "file_extension": ".py",
   "mimetype": "text/x-python",
   "name": "python",
   "nbconvert_exporter": "python",
   "pygments_lexer": "ipython3",
   "version": "3.10.8"
  },
  "orig_nbformat": 4
 },
 "nbformat": 4,
 "nbformat_minor": 2
}
