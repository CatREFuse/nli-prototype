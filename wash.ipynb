{
 "cells": [
  {
   "cell_type": "code",
   "execution_count": 5,
   "metadata": {},
   "outputs": [],
   "source": [
    "import json\n",
    "\n",
    "# convert .txt into json list by line\n",
    "def handle_text(file_name: str) -> None:\n",
    "    with open(f'{file_name}.txt', 'r') as f:\n",
    "        data = f.readlines()\n",
    "        buffer_list = [x.strip() for x in data]\n",
    "        json_buffer = json.dumps(buffer_list,  ensure_ascii=False)\n",
    "        with open(f\"{file_name}.json\", \"w+\") as w:\n",
    "            w.write(json_buffer)\n"
   ]
  },
  {
   "cell_type": "code",
   "execution_count": 7,
   "metadata": {},
   "outputs": [],
   "source": [
    "handle_text(\"figma_test_list\")\n",
    "handle_text(\"os_test_list\")"
   ]
  },
  {
   "cell_type": "code",
   "execution_count": null,
   "metadata": {},
   "outputs": [],
   "source": []
  }
 ],
 "metadata": {
  "kernelspec": {
   "display_name": "Python 3",
   "language": "python",
   "name": "python3"
  },
  "language_info": {
   "codemirror_mode": {
    "name": "ipython",
    "version": 3
   },
   "file_extension": ".py",
   "mimetype": "text/x-python",
   "name": "python",
   "nbconvert_exporter": "python",
   "pygments_lexer": "ipython3",
   "version": "3.10.8"
  },
  "orig_nbformat": 4
 },
 "nbformat": 4,
 "nbformat_minor": 2
}
